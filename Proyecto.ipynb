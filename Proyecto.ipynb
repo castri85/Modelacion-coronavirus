{
 "cells": [
  {
   "cell_type": "markdown",
   "metadata": {},
   "source": [
    "# PROYECTO COVID-19"
   ]
  },
  {
   "cell_type": "markdown",
   "metadata": {},
   "source": [
    "# Grafica bajo condiciones normales.\n",
    "(Este trabajo esta hecho con lagrimas de sufrimiento, vaya con cuidado que se puede deshacer)"
   ]
  },
  {
   "cell_type": "code",
   "execution_count": 11,
   "metadata": {},
   "outputs": [
    {
     "data": {
      "image/png": "[encoded data removed]",
      "text/plain": [
       "<Figure size 432x288 with 1 Axes>"
      ]
     },
     "metadata": {
      "needs_background": "light"
     },
     "output_type": "display_data"
    },
    {
     "data": {
      "image/png": "[encoded data removed]",
      "text/plain": [
       "<Figure size 432x288 with 1 Axes>"
      ]
     },
     "metadata": {
      "needs_background": "light"
     },
     "output_type": "display_data"
    }
   ],
   "source": [
    "from random import *\n",
    "import numpy as np\n",
    "import matplotlib.pyplot as plt\n",
    "%matplotlib inline\n",
    "\n",
    "#Condiciones de contagio\n",
    "\"N es el numero de personas sanas,r es el radio de interacción de contagio  L y H son las dimensiones de la caja\"\n",
    "\"imaginaria, dt paso del tiempo y Red numero de personas sanas que no se moveran\"\n",
    "N=150;r=0.5;L=200;H=200;dt=0.01;Red=0\n",
    "#Pocisiones y velocidades guardadas \n",
    "R=[[uniform(r,L-r),uniform(r,H-r)] for i in range(N-Red)]\n",
    "V=[[uniform(-r,r),uniform(-r,r)] for i in range(N-Red)]\n",
    "R_=[uniform(r,L-r),uniform(r,L-r)]\n",
    "V_=[uniform(-2*r,2*r),uniform(-2*r,2*r)]\n",
    "\n",
    "\n",
    "#Que hpta sufrimiento, por fin dormiré\n",
    "class Covid_19:\n",
    "    \n",
    "    def __init__(self,x,y,vx,vy,sain,malade,gueri):\n",
    "        self.x=x\n",
    "        self.y=y\n",
    "        self.vx=vx\n",
    "        self.vy=vy\n",
    "        self.gueri=gueri\n",
    "        self.malade=malade\n",
    "        self.sain=sain\n",
    "    #Evoluciona pocisiones y establece condiciones de choque con las paredes    \n",
    "    def Evol(self):\n",
    "         for i in range(len(R1)):\n",
    "            self.x=self.x+self.vx*dt\n",
    "            self.y=self.y+self.vy*dt\n",
    "            if self.x>L-r or self.x<r:\n",
    "                self.vx=-self.vx\n",
    "            if self.y>H-r or self.y<r:\n",
    "                self.vy=-self.vy\n",
    "    #Para saber condiciones del objeto luego de la evolución\n",
    "    def Pos_(self):\n",
    "        return [self.x,self.y,self.malade,self.gueri]\n",
    "    #Función que define el contagio\n",
    "    def Contagio(self,x1,y1,malade_ext,gueri_ext):\n",
    "        #Evaluación de contacto(No hay choques, solo sigue derecho como la simulación de un gas ideal)\n",
    "        if ((self.x-x1)**2+(self.y-y1)**2)**0.5<2*r and self.malade!=malade_ext and self.malade==False and self.gueri==False:\n",
    "            #El sano es eliminado de su grupo y aparece un nuevo enfermo\n",
    "            self.malade=True\n",
    "            return self.malade\n",
    "    #Función que define la curación     \n",
    "    def curacion(self):\n",
    "            self.malade=False\n",
    "            self.gueri=True\n",
    "    #Retoma valores iniciales de recuperado a False para poder volver a correr los mismos datos sin alterarlos\n",
    "    def restauración(self):\n",
    "            self.gueri=False\n",
    "                    \n",
    "\n",
    "\n",
    "def func(M):\n",
    "    i=0;Malade_datos=[];malade=0\n",
    "    Gueri_datos=[]; gueri=0;CC_=[];CC=0;KK=0\n",
    "    Sain_datos=[];sain=N\n",
    "    while i<M :\n",
    "        #Simplemente evolucionamos\n",
    "        for ii in range(len(R1)):\n",
    "            R1[ii].Evol()\n",
    "        #Condicion de contagio\n",
    "        for l in range(len(R1)):    \n",
    "            x_=R1[l].Pos_()[0]\n",
    "            y_=R1[l].Pos_()[1]\n",
    "            C_=R1[l].Pos_()[2]\n",
    "            C1_=R1[l].Pos_()[3]\n",
    "            for j in range(len(R1)-1):\n",
    "                R_C=R1[j].Contagio(x_,y_,C_,C1_)\n",
    "                #Probabilidad de contagio\n",
    "                NA=np.random.random()\n",
    "                if R_C==True and NA<8:\n",
    "                    malade+=1\n",
    "                    sain-=1\n",
    "                    CC+=1          \n",
    "                    #print(malade)           \n",
    "        Malade_datos.append(malade)\n",
    "        Sain_datos.append(sain)\n",
    "        #Conteo de enfermos por iteración\n",
    "        if KK!=CC:\n",
    "           \n",
    "            CC_.append(CC-KK)\n",
    "        else :\n",
    "            CC_.append(0)\n",
    "        KK=CC\n",
    "        #Al cabo de cierto tiempo los enfermos recuperan su condición de sanos\n",
    "        if i>2*M/5 and malade>1:\n",
    "            \n",
    "            for i in range(len(CC_)):\n",
    "                ñ=CC_[i]\n",
    "                if ñ!=0 :\n",
    "                    for j in range(ñ):\n",
    "                        R1[j].curacion()\n",
    "                        malade-=1\n",
    "                        gueri+=1\n",
    "                else:\n",
    "                    Malade_datos.append(Malade_datos[len(Malade_datos)-1])     \n",
    "                Malade_datos.append(malade)\n",
    "                Gueri_datos.append(gueri)\n",
    "        i+=dt\n",
    "#Graficacion\n",
    "\n",
    "    plt.figure(1)\n",
    "    plt.title(\"Propag\")\n",
    "    TT1=np.arange(0,len(Malade_datos),dt*100)\n",
    "    TT1_=np.arange(0,len(Malade_datos)/2,dt*100)\n",
    "    TT2=np.arange(0,len(Sain_datos),dt*100)\n",
    "    TT3=np.arange(0,len(Gueri_datos),dt*100)\n",
    "    plt.plot(TT1,Malade_datos,label=\"Malade\",color=\"red\")\n",
    "    plt.xlabel(\"Tiempo de propagación\")\n",
    "    plt.ylabel(\"Numero de contagios\")\n",
    "    plt.fill_between(TT1, 0 , Malade_datos )\n",
    "    plt.grid()\n",
    "    plt.legend()\n",
    "    plt.show()\n",
    "    \n",
    "    return Malade_datos\n",
    "R1=[Covid_19(R[i][0],R[i][1],V[i][0],V[i][1],N,False,False) for i in range(N-Red)]\n",
    "#Condición de velocidades iniciales =0\n",
    "if Red!=0:\n",
    "    for i in range(Red):\n",
    "        R1.append(Covid_19(uniform(r,L-r),uniform(r,L-r),0,0,N,False,False))\n",
    "#Infectado bendecido y afortunado\n",
    "R1.append(Covid_19(R_[0],R_[1],V_[0],V_[1],N,True,False))\n",
    "\n",
    "func(30)\n",
    "plt.plot([0,1600],[100,100])\n",
    "\n",
    "for i in range(N-Red):\n",
    "    R1[i].restauración()"
   ]
  },
  {
   "cell_type": "markdown",
   "metadata": {},
   "source": [
    "# Distanciamiento temporal sin movilidad reducida\n"
   ]
  },
  {
   "cell_type": "code",
   "execution_count": 9,
   "metadata": {},
   "outputs": [],
   "source": [
    "N=119;r=1;L=180;H=180;dt=0.01;Red=91\n",
    "RA=[[uniform(r,L/4-r),uniform(r,H/2-r)] for i in range(int(3*(N-Red)/4))]\n",
    "RB=[[uniform(L/4+r,L-r),uniform(H/2+r,H-r)] for i in range(int(3*(N-Red)/4))]\n",
    "R=[]\n",
    "for i in range(int(3*(N-Red)/4)):\n",
    "    R.append(RA[i])\n",
    "for j in range(int((N-Red)/4)):\n",
    "    R.append(RB[j])\n",
    "\n",
    "    \n",
    "V=[[uniform(-r,r),uniform(-r,r)] for i in range(N-Red)]\n",
    "R_=[uniform(r,L-r),uniform(r,L-r)]\n",
    "V_=[uniform(-2*r,2*r),uniform(-2*r,2*r)]"
   ]
  },
  {
   "cell_type": "code",
   "execution_count": null,
   "metadata": {},
   "outputs": [],
   "source": [
    "%matplotlib qt\n",
    "\n",
    "R1=[Covid_19(R[i][0],R[i][1],V[i][0],V[i][1],N,False,False) for i in range(N-Red)]\n",
    "if Red!=0:\n",
    "    for i in range(Red):\n",
    "        R1.append(Covid_19(uniform(r,L-r),uniform(r,L-r),0,0,N,False,False))\n",
    "#Infectado bendecido y afortunado\n",
    "R1.append(Covid_19(R_[0],R_[1],V_[0],V_[1],N,True,False))\n",
    "\n",
    "func(15)\n",
    "plt.plot([0,2000],[100,100])\n",
    "for i in range(N-Red):\n",
    "    R1[i].restauración()"
   ]
  },
  {
   "cell_type": "markdown",
   "metadata": {},
   "source": [
    "# Graficas con movilidad reducida"
   ]
  },
  {
   "cell_type": "code",
   "execution_count": 12,
   "metadata": {},
   "outputs": [],
   "source": [
    "N=200;r=.5;L=280;H=280;dt=0.01;Red=180\n",
    "R=[[uniform(r,L-r),uniform(r,H-r)] for i in range(N-Red)]\n",
    "V=[[uniform(-r,r),uniform(-r,r)] for i in range(N-Red)]\n",
    "R_=[uniform(r,L-r),uniform(r,L-r)]\n",
    "V_=[uniform(-2*r,2*r),uniform(-2*r,2*r)]\n"
   ]
  },
  {
   "cell_type": "code",
   "execution_count": null,
   "metadata": {},
   "outputs": [],
   "source": [
    "%matplotlib qt\n",
    "R1=[Covid_19(R[i][0],R[i][1],V[i][0],V[i][1],N,False,False) for i in range(N-Red)]\n",
    "if Red!=0:\n",
    "    for i in range(Red):\n",
    "        R1.append(Covid_19(uniform(r,L-r),uniform(r,L-r),0,0,N,False,False))\n",
    "#Infectado bendecido y afortunado\n",
    "R1.append(Covid_19(R_[0],R_[1],V_[0],V_[1],N,True,False))\n",
    "\n",
    "func(15)\n",
    "plt.plot([0,1500],[200,200])\n",
    "for i in range(N-Red):\n",
    "    R1[i].restauración()"
   ]
  },
  {
   "cell_type": "code",
   "execution_count": null,
   "metadata": {},
   "outputs": [],
   "source": []
  }
 ],
 "metadata": {
  "kernelspec": {
   "display_name": "Python 3",
   "language": "python",
   "name": "python3"
  },
  "language_info": {
   "codemirror_mode": {
    "name": "ipython",
    "version": 3
   },
   "file_extension": ".py",
   "mimetype": "text/x-python",
   "name": "python",
   "nbconvert_exporter": "python",
   "pygments_lexer": "ipython3",
   "version": "3.7.3"
  }
 },
 "nbformat": 4,
 "nbformat_minor": 2
}
