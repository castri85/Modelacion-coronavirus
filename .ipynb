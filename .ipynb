{
 "cells": [
  {
   "cell_type": "code",
   "execution_count": 1,
   "metadata": {},
   "outputs": [
    {
     "ename": "SyntaxError",
     "evalue": "invalid character in identifier (<ipython-input-1-c1d4aaebe443>, line 12)",
     "output_type": "error",
     "traceback": [
      "\u001b[1;36m  File \u001b[1;32m\"<ipython-input-1-c1d4aaebe443>\"\u001b[1;36m, line \u001b[1;32m12\u001b[0m\n\u001b[1;33m    C=Canvas(W, height=L, width=L, bg=’black’)\u001b[0m\n\u001b[1;37m                                            ^\u001b[0m\n\u001b[1;31mSyntaxError\u001b[0m\u001b[1;31m:\u001b[0m invalid character in identifier\n"
     ]
    }
   ],
   "source": [
    "#!/usr/bin/python\n",
    "# -*- coding: iso-latin-1 -*-\n",
    "# Gas Ideal 2008\n",
    "from Tkinter import *\n",
    "from random import *\n",
    "L=500 # lado de caja\n",
    "np=20 # partículas\n",
    "r=15 # radio\n",
    "dt=0.01 # paso de tiempo\n",
    "# gráfico\n",
    "W=Tk()\n",
    "C=Canvas(W, height=L, width=L, bg=’black’)\n",
    "C.pack()\n",
    "seed() # semilla de inicio random\n",
    "# vectores de posición y velocidad\n",
    "R=[[uniform(r,L-r),uniform(r,L-r)] for i in range(np)]\n",
    "V=[[uniform(-L/2,L/2),uniform(-L/2,L/2)] for i in range(np)]\n",
    "# las partículas serán círculos:\n",
    "# (el simbolo ’\\’ es para indicar que continua abajo)\n",
    "p=[C.create_oval(R[i][0]-r, R[i][1]-r,R[i][0]+r, R[i][1]+r, \\\n",
    "fill=’red’) for i in range(np)]\n",
    "# se define la función de movimiento\n",
    "def mover():\n",
    "for i in range(np):\n",
    "dx=V[i][0]*dt # cambios de posición\n",
    "dy=V[i][1]*dt\n",
    "C.move(p[i],dx,dy)\n",
    "# actualizar posiciones\n",
    "R[i][0]=R[i][0]+dx\n",
    "R[i][1]=R[i][1]+dy\n",
    "# verificar choque\n",
    "if R[i][0]>L-r or R[i][0]<r:\n",
    "V[i][0]=-V[i][0]\n",
    "if R[i][1]>L-r or R[i][1]<r:\n",
    "V[i][1]=-V[i][1]\n",
    "# se hace el ciclo... (modo gráfico)\n",
    "W.after(10,mover)\n",
    "### fin mover()\n",
    "# principal:\n",
    "mover()\n",
    "W.mainloop()\n",
    "\n"
   ]
  },
  {
   "cell_type": "code",
   "execution_count": 8,
   "metadata": {},
   "outputs": [
    {
     "name": "stdout",
     "output_type": "stream",
     "text": [
      "*** Use Ctrl+C, para parar el codigo. ***\n"
     ]
    },
    {
     "ename": "NameError",
     "evalue": "name 'x1' is not defined",
     "output_type": "error",
     "traceback": [
      "\u001b[1;31m---------------------------------------------------------------------------\u001b[0m",
      "\u001b[1;31mNameError\u001b[0m                                 Traceback (most recent call last)",
      "\u001b[1;32m<ipython-input-8-f2cf7fa72559>\u001b[0m in \u001b[0;36m<module>\u001b[1;34m\u001b[0m\n\u001b[0;32m     96\u001b[0m     \u001b[0mcuerda_y\u001b[0m\u001b[1;33m,\u001b[0m \u001b[1;33m=\u001b[0m \u001b[0mplot\u001b[0m\u001b[1;33m(\u001b[0m\u001b[1;33m[\u001b[0m\u001b[1;33m-\u001b[0m\u001b[0mlim\u001b[0m\u001b[1;33m,\u001b[0m \u001b[0mlim\u001b[0m\u001b[1;33m]\u001b[0m\u001b[1;33m,\u001b[0m\u001b[1;33m[\u001b[0m\u001b[1;33m-\u001b[0m\u001b[0mlim\u001b[0m\u001b[1;33m,\u001b[0m \u001b[1;33m-\u001b[0m\u001b[0mlim\u001b[0m\u001b[1;33m]\u001b[0m\u001b[1;33m,\u001b[0m\u001b[1;34m'k-'\u001b[0m\u001b[1;33m)\u001b[0m\u001b[1;33m\u001b[0m\u001b[1;33m\u001b[0m\u001b[0m\n\u001b[0;32m     97\u001b[0m     \u001b[0mmasa0\u001b[0m\u001b[1;33m,\u001b[0m   \u001b[1;33m=\u001b[0m \u001b[0mplot\u001b[0m\u001b[1;33m(\u001b[0m\u001b[0mx0\u001b[0m\u001b[1;33m,\u001b[0m \u001b[0my0\u001b[0m\u001b[1;33m,\u001b[0m\u001b[1;34m'bo'\u001b[0m\u001b[1;33m,\u001b[0m\u001b[0mms\u001b[0m\u001b[1;33m=\u001b[0m\u001b[1;36m5\u001b[0m\u001b[1;33m)\u001b[0m       \u001b[1;31m# graficar masa unida a cuerda\u001b[0m\u001b[1;33m\u001b[0m\u001b[1;33m\u001b[0m\u001b[0m\n\u001b[1;32m---> 98\u001b[1;33m     \u001b[0mmasa1\u001b[0m\u001b[1;33m,\u001b[0m   \u001b[1;33m=\u001b[0m \u001b[0mplot\u001b[0m\u001b[1;33m(\u001b[0m\u001b[0mx1\u001b[0m\u001b[1;33m,\u001b[0m \u001b[0my1\u001b[0m\u001b[1;33m,\u001b[0m\u001b[1;34m'bo'\u001b[0m\u001b[1;33m,\u001b[0m\u001b[0mms\u001b[0m\u001b[1;33m=\u001b[0m\u001b[1;36m5\u001b[0m\u001b[1;33m)\u001b[0m       \u001b[1;31m# graficar masa unida a cuerda\u001b[0m\u001b[1;33m\u001b[0m\u001b[1;33m\u001b[0m\u001b[0m\n\u001b[0m\u001b[0;32m     99\u001b[0m \u001b[1;33m\u001b[0m\u001b[0m\n\u001b[0;32m    100\u001b[0m \u001b[1;33m\u001b[0m\u001b[0m\n",
      "\u001b[1;31mNameError\u001b[0m: name 'x1' is not defined"
     ]
    }
   ],
   "source": [
    "#Idea de proyecto\n",
    "\n",
    "\n",
    "from matplotlib.pyplot import *\n",
    "%matplotlib qt\n",
    "matplotlib.use('Qt5Agg') # needed as default backend is too slow\n",
    "from numpy import *\n",
    "%matplotlib qt\n",
    "\n",
    "N=10 # numero de bolas\n",
    "r=1 # radio \n",
    "\n",
    "\n",
    "#clase que describe la dinamica del sistema\n",
    "class Particula:\n",
    "    #atributos\n",
    "    cargada= True\n",
    "    #Instancias\n",
    "    def __init__(self,x,y,vx,vy,m):\n",
    "        self.x=x\n",
    "        self.y=y\n",
    "        self.vx=vx\n",
    "        self.vy=vy\n",
    "        self.m=m\n",
    "        \n",
    "        \n",
    "    def Pos_evol(self,t):\n",
    "        self.x=self.x+self.vx*t\n",
    "        self.y=self.y+self.vy*t            \n",
    "        return np.array([self.x,self.y])\n",
    "\n",
    "#m1=Particula(0,4,3,2,1)\n",
    "\n",
    "\n",
    "error=0.001\n",
    "\n",
    "#Listas con las evoluciones de la pocisión e introdución de condiciones iniciales\n",
    "\n",
    "#Numero de bolas y condiciones iniciales\n",
    "\n",
    "x0=np.random.random(N)\n",
    "y0=np.random.random(N)\n",
    "vx0=np.full(N,1)\n",
    "vy0=np.full(N,1)\n",
    "Datos_x=np.zeros((N,N))\n",
    "Datos_y=np.zeros((N,N))\n",
    "\n",
    "for m in range(N):\n",
    "    Datos_x[0][m]=x0[m]\n",
    "    Datos_y[0][m]=y0[m]\n",
    "\n",
    "def F(X,Y,M,t):\n",
    "    for l in range(N):\n",
    "        X[M+1][l]=X[M][l]+vx0[l]*t\n",
    "        Y[M+1][l]=Y[M][l]+vy0[l]*t            \n",
    "    return np.array([X,Y])\n",
    "\n",
    "#Pos_evol(Datos_x,Datos_y,t)[0]=Datos_x\n",
    "#Pos_evol(Datos_x,Datos_y,t)[1]=Datos_y\n",
    "    \n",
    "\n",
    "#----- inicializacion de graficos\n",
    "figure(figsize=(10,10))        # hacer figura cuadrada\n",
    "\n",
    "lim= 10   # longitud cuerda mas un poquito\n",
    "xlim(-lim,lim)              # limites en x  \n",
    "ylim(-lim,lim)              # limites en y\n",
    "\n",
    "#plot(0,0,'ko',ms=4)          # punto origen    \n",
    "    \n",
    "print (\"*** Use Ctrl+C, para parar el codigo. ***\")\n",
    "for j in range(N):\n",
    "    \n",
    "    lim=5\n",
    "\n",
    "    \n",
    "    #m=Particula(Datos_x[0][i],Datos_y[0][i],vy0[i],vx0[i],1)\n",
    "    Datos_x= F(Datos_x,Datos_y,j,t)[0]\n",
    "    Datos_y= F(Datos_x,Datos_y,j,t)[1]\n",
    "    \n",
    "    for k in range(N):\n",
    "        a=0;b=0;c=0;d=0\n",
    "        for i in range(N):\n",
    "            if Datos_x[j][k] == Datos_x[j][i] and Datos_y[j][k] == Datos_y[j][i]:\n",
    "                a=vx0[k]\n",
    "                b=vx0[i]\n",
    "                vx0[k]=b\n",
    "                vx0[i]=a\n",
    "                c=vy0[k]\n",
    "                d=vy0[i]\n",
    "                vy0[k]=d\n",
    "                vy0[i]=c\n",
    "    \n",
    "        if Datos_x[j][k]-lim>error or Datos_x[j][k]+lim<error : \n",
    "                vx0[k]=-vx0[k]\n",
    "        if Datos_y[j][k]-lim>error or Datos_y[j][k]+lim<error :\n",
    "                vy0[k]=-vy0[k]\n",
    "\n",
    "    \n",
    "        \n",
    "            \n",
    "        \n",
    "    #------ implementacion del grafico: \n",
    "    cuerdax, = plot([lim, lim],[-lim, lim],'k-')  # graficar cuerda\n",
    "    cuerda_x, = plot([-lim, -lim],[-lim, lim],'k-') \n",
    "    cuerdax,  = plot([-lim, lim],[lim, lim],'k-') \n",
    "    cuerda_y, = plot([-lim, lim],[-lim, -lim],'k-')\n",
    "    for\n",
    "    masa0,   = plot(x0, y0,'bo',ms=5)       # graficar masa unida a cuerda\n",
    "    masa1,   = plot(x1, y1,'bo',ms=5)       # graficar masa unida a cuerda\n",
    "\n",
    "    \n",
    "    #vel.set_text(r'$\\omega$ = %5.2f'%(w)+' rad/s') # muestre velocidad\n",
    "    \n",
    "    pause(1e-3)              # pausa (segundos) despues de graficar\n",
    "    masa0.remove()            # remover punto de coord de masa \n",
    "    masa1.remove()\n",
    "\n",
    "show()    \n",
    "    \n",
    "\n"
   ]
  },
  {
   "cell_type": "code",
   "execution_count": 69,
   "metadata": {},
   "outputs": [
    {
     "data": {
      "text/plain": [
       "3"
      ]
     },
     "execution_count": 69,
     "metadata": {},
     "output_type": "execute_result"
    }
   ],
   "source": [
    "class Particula:\n",
    "    #atributos\n",
    "    cargada= True\n",
    "    #Instancias\n",
    "    def __init__(self,x,y,vx,vy,m):\n",
    "        self.x=x\n",
    "        self.y=y\n",
    "        self.vx=vx\n",
    "        self.vy=vy\n",
    "        self.m=m\n",
    "        \n",
    "        \n",
    "    def Pos_evol(self,t):\n",
    "        self.x=self.x+self.vx*t\n",
    "        self.y=self.y+self.vy*t            \n",
    "        return np.array([self.x,self.y])\n",
    "\n",
    "m1=Particula(0,4,3,2,1)\n",
    "m1.Pos_evol(1)[0]\n",
    "\n",
    "\n",
    "  #bola0\n",
    "    x0=x0+vx0*h\n",
    "    y0=y0+vy0*h\n",
    "    #x0=x;y0=y\n",
    "\n",
    "    #bola1\n",
    "    x1=x1+vx1*h\n",
    "    y1=y1+vy1*h\n",
    "    #x1=x;y1=y\n",
    "    \n"
   ]
  },
  {
   "cell_type": "code",
   "execution_count": 10,
   "metadata": {},
   "outputs": [
    {
     "data": {
      "text/plain": [
       "array([[0., 2., 0., 0., 0.],\n",
       "       [0., 0., 0., 0., 0.],\n",
       "       [0., 0., 0., 0., 0.],\n",
       "       [0., 0., 0., 0., 0.],\n",
       "       [0., 0., 0., 0., 0.]])"
      ]
     },
     "execution_count": 10,
     "metadata": {},
     "output_type": "execute_result"
    }
   ],
   "source": [
    "A=np.zeros((5,5))\n",
    "A[0][1]=2\n",
    "A"
   ]
  },
  {
   "cell_type": "code",
   "execution_count": 13,
   "metadata": {},
   "outputs": [],
   "source": [
    "    masa0,   = plot(x0, y0,'bo',ms=5)       # graficar masa unida a cuerda\n",
    "\n",
    "masa0?"
   ]
  },
  {
   "cell_type": "code",
   "execution_count": null,
   "metadata": {},
   "outputs": [],
   "source": []
  }
 ],
 "metadata": {
  "kernelspec": {
   "display_name": "Python 3",
   "language": "python",
   "name": "python3"
  },
  "language_info": {
   "codemirror_mode": {
    "name": "ipython",
    "version": 3
   },
   "file_extension": ".py",
   "mimetype": "text/x-python",
   "name": "python",
   "nbconvert_exporter": "python",
   "pygments_lexer": "ipython3",
   "version": "3.7.3"
  }
 },
 "nbformat": 4,
 "nbformat_minor": 2
}
