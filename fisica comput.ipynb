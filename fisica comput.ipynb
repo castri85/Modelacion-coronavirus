{
 "cells": [
  {
   "cell_type": "code",
   "execution_count": 21,
   "metadata": {},
   "outputs": [
    {
     "ename": "IndentationError",
     "evalue": "expected an indented block (<ipython-input-21-d43e181c57b9>, line 66)",
     "output_type": "error",
     "traceback": [
      "\u001b[1;36m  File \u001b[1;32m\"<ipython-input-21-d43e181c57b9>\"\u001b[1;36m, line \u001b[1;32m66\u001b[0m\n\u001b[1;33m    W.after(10,mover)\u001b[0m\n\u001b[1;37m    ^\u001b[0m\n\u001b[1;31mIndentationError\u001b[0m\u001b[1;31m:\u001b[0m expected an indented block\n"
     ]
    }
   ],
   "source": [
    "#!/usr/bin/python\n",
    "# -*- coding: iso-latin-1 -*-\n",
    "# Gas Ideal 2008\n",
    "from tkinter import *\n",
    "from random import *\n",
    "L=900 # lado de caja\n",
    "H=500\n",
    "np=20 # partículas\n",
    "r=15 # radio\n",
    "dt=0.01 # paso de tiempo\n",
    "# gráfico\n",
    "W=Tk()\n",
    "C=Canvas(W, height=H, width=L, bg=\"black\")\n",
    "C.pack()\n",
    "seed() # semilla de inicio random\n",
    "# vectores de posición y velocidad\n",
    "R=[[uniform(r,L-r),uniform(r,L-r)] for i in range(np)]\n",
    "V=[[uniform(-L/2,L/2),uniform(-L/2,L/2)] for i in range(np)]\n",
    "# las partículas serán círculos:\n",
    "# (el simbolo ’\\’ es para indicar que continua abajo)\n",
    "\n",
    "I=[uniform(r,L-r),uniform(r,L-r)]\n",
    "VI=[uniform(-L/2,L/2),uniform(-L/2,L/2)]\n",
    "F=C.create_oval(I[0]-r, I[1]-r,I[0]+r, I[1]+r, fill=\"green\")\n",
    "p=[]\n",
    "for i in range(np-1):\n",
    "    if i==1:\n",
    "            p.append(C.create_oval(R[0][0]-r, R[0][1]-r,R[0][0]+r, R[0][1]+r, fill=\"green\"))\n",
    "    p.append(C.create_oval(R[i+1][0]-r, R[i+1][1]-r,R[i+1][0]+r, R[i+1][1]+r, fill=\"red\"))\n",
    "error=0.1\n",
    "# se define la función de movimiento\n",
    "def mover():\n",
    "    for i in range(np):\n",
    "        dx=V[i][0]*dt # cambios de posición\n",
    "        dy=V[i][1]*dt\n",
    "        #dxI=VI[0]*dt # cambios de posición infectado\n",
    "        #dyI=VI[1]*dt\n",
    "        \n",
    "        C.move(p[i],dx,dy)\n",
    "        #C.move(F,dxI,dyI)\n",
    "        \n",
    "# actualizar posiciones\n",
    "        R[i][0]=R[i][0]+dx\n",
    "        R[i][1]=R[i][1]+dy\n",
    "# actualizar posicione infectado\n",
    "        #I[0]=I[0]+dxI\n",
    "        #I[1]=I[1]+dyI\n",
    "        \n",
    "        \n",
    "# verificar choque\n",
    "        if R[i][0]>L-r or R[i][0]<r:\n",
    "            V[i][0]=-V[i][0]\n",
    "        if R[i][1]>H-r or R[i][1]<r:\n",
    "            V[i][1]=-V[i][1]\n",
    "\n",
    "        if ((R[i][0]-R[i][0])**2+(R[i][1]-R[i][1])**2)**0.5<2*r :\n",
    "            #p[i]=C.create_oval(R[i][0]-r, R[i][1]-r,R[i][0]+r, R[i][1]+r, fill=\"green\")\n",
    "    \n",
    "    #verificar choque infectado\n",
    "        #if I[0]>L-r or I[0]<r:\n",
    "            #VI[0]=-VI[0]\n",
    "        #if I[1]>L-r or I[1]<r:\n",
    "           # V[1]=-VI[1]\n",
    "        #print(p[i])\n",
    "    # se hace el ciclo... (modo gráfico)\n",
    "    W.after(10,mover)\n",
    "### fin mover()\n",
    "# principal:\n",
    "mover()\n",
    "W.mainloop()\n",
    "\n",
    "\n"
   ]
  },
  {
   "cell_type": "code",
   "execution_count": 16,
   "metadata": {},
   "outputs": [],
   "source": [
    "p?"
   ]
  },
  {
   "cell_type": "code",
   "execution_count": 101,
   "metadata": {},
   "outputs": [
    {
     "ename": "IndentationError",
     "evalue": "unexpected indent (<ipython-input-101-0ae053142009>, line 2)",
     "output_type": "error",
     "traceback": [
      "\u001b[1;36m  File \u001b[1;32m\"<ipython-input-101-0ae053142009>\"\u001b[1;36m, line \u001b[1;32m2\u001b[0m\n\u001b[1;33m    if len(R3)!=0:\u001b[0m\n\u001b[1;37m    ^\u001b[0m\n\u001b[1;31mIndentationError\u001b[0m\u001b[1;31m:\u001b[0m unexpected indent\n"
     ]
    }
   ],
   "source": [
    "#curacion\n",
    "    if len(R3)!=0:\n",
    "    \n",
    "        for k in range(len(R3)):\n",
    "            R3[k][0]=R3[k][0]+V[k][0]*dt\n",
    "            R3[k][1]=R3[k][1]+V[k][1]*dt\n",
    "            if R2[k][0]>L-r or R2[k][0]<r:\n",
    "                V[k][0]=-V[k][0]\n",
    "            if R2[k][1]>H-r or R2[k][1]<r:\n",
    "                V[k][1]=-V[k][1]"
   ]
  },
  {
   "cell_type": "code",
   "execution_count": 107,
   "metadata": {},
   "outputs": [
    {
     "name": "stdout",
     "output_type": "stream",
     "text": [
      "[597, 596, 595, 594, 593, 592, 591, 590, 589, 588, 587, 586, 585, 584, 583, 582, 581, 580, 579, 578, 577, 576, 575, 574, 573, 572, 571, 570, 569, 568, 567, 566, 565, 564, 563, 562, 561, 560, 559, 558, 557, 556, 555, 554, 553, 552, 551, 550, 549, 548, 547, 546, 545, 544, 543, 542, 541, 540, 539, 538, 537, 536, 535, 534, 533, 532, 531, 530, 529, 528, 527, 526, 525, 524, 523, 522, 521, 520, 519, 518, 517, 516, 515, 514, 513, 512, 511, 510, 509, 508, 507, 506, 505, 504, 503, 502, 501, 500, 499, 498, 497, 496, 495, 494, 493, 492, 491, 490, 489, 488, 487, 486, 485, 484, 483, 482, 481, 480, 479, 478, 477, 476, 475, 474, 473, 472, 471, 470, 469, 468, 467, 466, 465, 464, 463, 462, 461, 460, 459, 458, 457, 456, 455, 454, 453, 452, 451, 450, 449, 448, 447, 446, 445, 444, 443, 442, 441, 440, 439, 438, 437, 436, 435, 434, 433, 432, 431, 430, 429, 428, 427, 426, 425, 424, 423, 422, 421, 420, 419, 418, 417, 416, 415, 414, 413, 412, 411, 410, 409, 408, 407, 406, 405, 404, 403, 402, 401, 400, 399, 398, 397, 396, 395, 394, 393, 392, 391, 390, 389, 388, 387, 386, 385, 384, 383, 382, 381, 380, 379, 378, 377, 376, 375, 374, 373, 372, 371, 370, 369, 368, 367, 366, 365, 364, 363, 362, 361, 360, 359, 358, 357, 356, 355, 354, 353, 352, 351, 350, 349, 348, 347, 346, 345, 344, 343, 342, 341, 340, 339, 338, 337, 336, 335, 334, 333, 332, 331, 330, 329, 328, 327, 326, 325, 324, 323, 322, 321, 320, 319, 318, 317, 316, 315, 314, 313, 312, 311, 310, 309, 308, 307, 306, 305, 304, 303, 302, 301, 300, 299, 298, 297, 296, 295, 294, 293, 292, 291, 290, 289, 288, 287, 286, 285, 284, 283, 282, 281, 280, 279, 278, 277, 276, 275, 274, 273, 272, 271, 270, 269, 268, 267, 266, 265, 264, 263, 262, 261, 260, 259, 258, 257, 256, 255, 254, 253, 252, 251, 250, 249, 248, 247, 246, 245, 244, 243, 242, 241, 240, 239, 238, 237, 236, 235, 234, 233, 232, 231, 230, 229, 228, 227, 226, 225, 224, 223, 222, 221, 220, 219, 218, 217, 216, 215, 214, 213, 212, 211, 210, 209, 208, 207, 206, 205, 204, 203, 202, 201, 200, 199, 198, 197, 196, 195, 194, 193, 192, 191, 190, 189, 188, 187, 186, 185, 184, 183, 182, 181, 180, 179, 178, 177, 176, 175, 174, 173, 172, 171, 170, 169, 168, 167, 166, 165, 164, 163, 162, 161, 160, 159, 158, 157, 156, 155, 154, 153, 152, 151, 150, 149, 148, 147, 146, 145, 144, 143, 142, 141, 140, 139, 138, 137, 136, 135, 134, 133, 132, 131, 130, 129, 128, 127, 126, 125, 124, 123, 122, 121, 120, 119, 118, 117, 116, 115, 114, 113, 112, 111, 110, 109, 108, 107, 106, 105, 104, 103, 102, 101, 100, 99, 98, 97, 96, 95, 94, 93, 92, 91, 90, 89, 88, 87, 86, 85, 84, 83, 82, 81, 80, 79, 78, 77, 76, 75, 74, 73, 72, 71, 70, 69, 68, 67, 66, 65, 64, 63, 62, 61, 60, 59, 58, 57, 56, 55, 54, 53, 52, 51, 50, 49, 48, 47, 46, 45, 44, 43, 42, 41, 40, 39, 38, 37, 36, 35, 34, 33, 32, 31, 30, 29, 28, 27, 26, 25, 24, 23, 22, 21, 20, 19, 18, 17, 16, 15, 14, 13, 12, 11, 10, 9, 8, 7, 6, 5, 4, 3, 2, 1]\n"
     ]
    },
    {
     "data": {
      "text/plain": [
       "0"
      ]
     },
     "execution_count": 107,
     "metadata": {},
     "output_type": "execute_result"
    }
   ],
   "source": [
    "from random import *\n",
    "import numpy as np\n",
    "import matplotlib.pyplot as plt\n",
    "%matplotlib qt\n",
    "\n",
    "\n",
    "#pocisiones iniciales\n",
    "\n",
    "\n",
    "dt=0.01\n",
    "def propag(H,L,n,r,m):\n",
    "    T=0;T_=[]\n",
    "    Malade=0 ; Malade_=[]\n",
    "    Sain=n; Sain_=[]\n",
    "    Guerí=0; Guerí_=[];kk=0\n",
    "    Malade_datos=[]\n",
    "    Sain_datos=[]\n",
    "    Guerí_datos=[]\n",
    "    R1=[[uniform(r,L-r),uniform(r,L-r)] for i in range(n)]\n",
    "    R2=[[uniform(r,L-r),uniform(r,L-r)] for i in range(2)]\n",
    "    R3=[]\n",
    "    V1=[[uniform(r,L-r),uniform(r,L-r)] for i in range(n)]\n",
    "    V2=[[uniform(r,L-r),uniform(r,L-r)] for i in range(2)]\n",
    "    V3=[]\n",
    "    #Tiempo de curación\n",
    "    tt=0\n",
    "    while T<m:\n",
    "        for i in range(len(R1)):\n",
    "            R1[i][0]=R1[i][0]+V1[i][0]*dt\n",
    "            R1[i][1]=R1[i][1]+V1[i][1]*dt\n",
    "            if R1[i][0]>L-r or R1[i][0]<r:\n",
    "                V1[i][0]=-V1[i][0]\n",
    "            if R1[i][1]>H-r or R1[i][1]<r:\n",
    "                V1[i][1]=-V1[i][1]\n",
    "        \n",
    "        \n",
    "        for j in range(len(R2)):\n",
    "            R2[j][0]=R2[j][0]+V2[j][0]*dt\n",
    "            R2[j][1]=R2[j][1]+V2[j][1]*dt\n",
    "            if R2[j][0]>L-r or R2[j][0]<r:\n",
    "                V2[j][0]=-V2[j][0]\n",
    "            if R2[j][1]>H-r or R2[j][1]<r:\n",
    "                V2[j][1]=-V2[j][1] \n",
    "        #print(len(R2))\n",
    "        #print(len(R1))\n",
    "     \n",
    "        for jj in range(0,len(R2)):\n",
    "            for ii in range(0,len(R1)-4):\n",
    "                if Sain>0 and len(R1)>1 and ((R1[ii][0]-R2[jj][0])**2+(R1[ii][1]-R2[jj][1])**2)**0.5<2*r :\n",
    "                    R2.append(R1[ii])                                      \n",
    "                    V2.append(V1[ii])\n",
    "                    del(R1[ii])\n",
    "                    del(V1[ii])\n",
    "                    Malade+=1; Sain-=1\n",
    "                    Malade_.append(Malade)\n",
    "                    Sain_.append(Sain)\n",
    "                    #print(Sain_)\n",
    "                    \n",
    "        \n",
    "        #curacion\n",
    "        \n",
    "        \n",
    "              \n",
    "        if len(R2)>1 and Malade>0 and T>5:\n",
    "            #for p in range(len(R2)):\n",
    "            #print(T)\n",
    "            #len(R2)\n",
    "            R3.append(R2[0])                                      \n",
    "            V3.append(V2[0])\n",
    "            del(R2[0])\n",
    "            del(V2[0])\n",
    "            Guerí+=1;  #Malade-=1\n",
    "            #print(Malade)\n",
    "            #Malade_.append(Malade)\n",
    "            #Malade_datos.append(len(Malade_))\n",
    "            Guerí_.append(Guerí)\n",
    "            Guerí_datos.append(len(Guerí_))\n",
    "            #print(Guerí_datos)\n",
    "            for k in range(len(R3)):\n",
    "                R3[k][0]=R3[k][0]+V3[k][0]*dt\n",
    "                R3[k][1]=R3[k][1]+V3[k][1]*dt\n",
    "                if R3[k][0]>L-r or R3[k][0]<r:\n",
    "                    V3[k][0]=-V3[k][0]\n",
    "                if R3[k][1]>H-r or R3[k][1]<r:\n",
    "                    V3[k][1]=-V3[k][1]\n",
    "            kk+=1\n",
    "        \n",
    "        \n",
    "        \n",
    "        #print(Guerí)\n",
    "        T+=dt\n",
    "        T_.append(T)\n",
    "        #print(Malade_)\n",
    "        Malade_datos.append(len(Malade_))\n",
    "        Sain_datos.append(n-len(Sain_))\n",
    "    tt+=1    \n",
    "    #print(\"Malade\",Malade_datos)\n",
    "    #print(len(T_))\n",
    "    #print(\"Sain\",Sain_datos)\n",
    "    #print(\"GUERÍ\",Guerí_datos)\n",
    "    Guerí_datos.reverse()\n",
    "    plt.figure(1)\n",
    "    plt.title(\"Propag\")\n",
    "    plt.grid()\n",
    "    print(Guerí_datos)\n",
    "    TT2=np.arange(0,len(Malade_datos)*0.01,0.01)\n",
    "    TT3=np.arange(1.4,6.36,0.01)   \n",
    "    plt.plot(TT2,Malade_datos,label=\"Malade\",color=\"red\")\n",
    "    plt.plot(T_,Sain_datos, label =\"Sain\",color=\"green\")\n",
    "    #plt.plot(TT3,Guerí_datos)\n",
    "    return 0\n",
    "\n",
    "propag(200,200,600,0.5,50)            \n",
    "               \n",
    "\n",
    "            \n",
    "        \n",
    "    \n",
    "    \n",
    "    "
   ]
  },
  {
   "cell_type": "code",
   "execution_count": 35,
   "metadata": {},
   "outputs": [
    {
     "data": {
      "text/plain": [
       "901"
      ]
     },
     "execution_count": 35,
     "metadata": {},
     "output_type": "execute_result"
    }
   ],
   "source": [
    "TT=np.arange(0,9.01,0.01)\n",
    "len(TT)"
   ]
  },
  {
   "cell_type": "code",
   "execution_count": null,
   "metadata": {},
   "outputs": [],
   "source": []
  }
 ],
 "metadata": {
  "kernelspec": {
   "display_name": "Python 3",
   "language": "python",
   "name": "python3"
  },
  "language_info": {
   "codemirror_mode": {
    "name": "ipython",
    "version": 3
   },
   "file_extension": ".py",
   "mimetype": "text/x-python",
   "name": "python",
   "nbconvert_exporter": "python",
   "pygments_lexer": "ipython3",
   "version": "3.7.3"
  }
 },
 "nbformat": 4,
 "nbformat_minor": 2
}
